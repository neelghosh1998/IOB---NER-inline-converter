{
 "cells": [
  {
   "cell_type": "code",
   "execution_count": 25,
   "metadata": {},
   "outputs": [],
   "source": [
    "#importing necessary libraries\n",
    "\n",
    "import nltk\n",
    "from nltk.tokenize import TreebankWordTokenizer\n",
    "# from nltk.tokenize import sent_tokenize, word_tokenize\n",
    "twt = TreebankWordTokenizer()\n",
    "\n",
    "import re\n",
    "import numpy as np\n",
    "import pandas as pd"
   ]
  },
  {
   "cell_type": "code",
   "execution_count": 30,
   "metadata": {},
   "outputs": [],
   "source": [
    "#enter any text in inline format like shown below, to convert to IOB\n",
    "\n",
    "text='I(Person) love Rock-n-Roll(Music-style)' \n",
    "\n"
   ]
  },
  {
   "cell_type": "code",
   "execution_count": 31,
   "metadata": {},
   "outputs": [
    {
     "data": {
      "text/html": [
       "<div>\n",
       "<style scoped>\n",
       "    .dataframe tbody tr th:only-of-type {\n",
       "        vertical-align: middle;\n",
       "    }\n",
       "\n",
       "    .dataframe tbody tr th {\n",
       "        vertical-align: top;\n",
       "    }\n",
       "\n",
       "    .dataframe thead th {\n",
       "        text-align: right;\n",
       "    }\n",
       "</style>\n",
       "<table border=\"1\" class=\"dataframe\">\n",
       "  <thead>\n",
       "    <tr style=\"text-align: right;\">\n",
       "      <th></th>\n",
       "      <th>Sentence</th>\n",
       "      <th>IOB</th>\n",
       "      <th>Entity</th>\n",
       "    </tr>\n",
       "  </thead>\n",
       "  <tbody>\n",
       "    <tr>\n",
       "      <th>0</th>\n",
       "      <td>I</td>\n",
       "      <td>B</td>\n",
       "      <td>Person</td>\n",
       "    </tr>\n",
       "    <tr>\n",
       "      <th>1</th>\n",
       "      <td>love</td>\n",
       "      <td>I</td>\n",
       "      <td>None</td>\n",
       "    </tr>\n",
       "    <tr>\n",
       "      <th>2</th>\n",
       "      <td>Rock-n-Roll</td>\n",
       "      <td>I</td>\n",
       "      <td>Music-style</td>\n",
       "    </tr>\n",
       "  </tbody>\n",
       "</table>\n",
       "</div>"
      ],
      "text/plain": [
       "      Sentence IOB       Entity\n",
       "0            I   B       Person\n",
       "1         love   I         None\n",
       "2  Rock-n-Roll   I  Music-style"
      ]
     },
     "execution_count": 31,
     "metadata": {},
     "output_type": "execute_result"
    }
   ],
   "source": [
    "#converting to IOB format in the form of a dataframe\n",
    "\n",
    "temp=twt.tokenize(text)\n",
    "i=0\n",
    "j=0\n",
    "d={}\n",
    "while j<len(temp):\n",
    "    if temp[j]=='(':\n",
    "        j+=1\n",
    "        d[word].append(temp[j])\n",
    "        j+=2\n",
    "        i+=4\n",
    "    else:\n",
    "        word=temp[i]\n",
    "        d[word]=[]\n",
    "        j+=1\n",
    "        if j<len(temp):\n",
    "            if temp[j]!='(':\n",
    "                i+=1\n",
    "\n",
    "df = pd.DataFrame.from_dict(d, orient='index')\n",
    "\n",
    "l=list(d.keys())\n",
    "new=''\n",
    "for i in l:\n",
    "    new=new+i+' '\n",
    "\n",
    "start, end = re.search(re.escape(new), new).span()\n",
    "span_list = list(twt.span_tokenize(new))\n",
    "\n",
    "iob_list = []\n",
    "for start_sp, end_sp in span_list:\n",
    "    iob_tag = 'O'\n",
    "    if start_sp == start:\n",
    "        iob_tag = 'B'\n",
    "    elif start < start_sp and end_sp <= end:\n",
    "        iob_tag = 'I'\n",
    "    iob_list.append(iob_tag)\n",
    "    \n",
    "\n",
    "main=twt.tokenize(new)\n",
    "\n",
    "d1={}\n",
    "d1['Sentence']=main\n",
    "d1['IOB']=iob_list\n",
    "\n",
    "dfnew=pd.DataFrame(d1)\n",
    "dfnew['Entity']=list(df[0])\n",
    "dfnew"
   ]
  },
  {
   "cell_type": "code",
   "execution_count": 32,
   "metadata": {},
   "outputs": [],
   "source": [
    "'''Now lets convert an IOB format to inline. Enter any dataframe like the one shown below. In our \n",
    "case, I am taking the output IOB dataframe from the previous conversion, as an example. To change that, \n",
    "just change the name in the following code '''\n",
    "\n",
    "iob=dfnew"
   ]
  },
  {
   "cell_type": "code",
   "execution_count": 33,
   "metadata": {},
   "outputs": [
    {
     "data": {
      "text/plain": [
       "'I(Person) love Rock-n-Roll(Music-style) '"
      ]
     },
     "execution_count": 33,
     "metadata": {},
     "output_type": "execute_result"
    }
   ],
   "source": [
    "#Converting to NER inline\n",
    "\n",
    "i=0\n",
    "inline=''\n",
    "s=list(iob['Sentence'])\n",
    "e=list(iob['Entity'])\n",
    "while i<len(s):\n",
    "    if e[i] is None:\n",
    "        inline+=s[i]+' '\n",
    "        i+=1\n",
    "    else:\n",
    "        inline+=s[i]+'('+e[i]+')'+' '\n",
    "        i+=1\n",
    "        \n",
    "inline\n",
    "    \n",
    "    \n",
    "    "
   ]
  },
  {
   "cell_type": "code",
   "execution_count": null,
   "metadata": {},
   "outputs": [],
   "source": []
  },
  {
   "cell_type": "code",
   "execution_count": null,
   "metadata": {},
   "outputs": [],
   "source": []
  },
  {
   "cell_type": "code",
   "execution_count": null,
   "metadata": {},
   "outputs": [],
   "source": []
  }
 ],
 "metadata": {
  "kernelspec": {
   "display_name": "Python 3",
   "language": "python",
   "name": "python3"
  },
  "language_info": {
   "codemirror_mode": {
    "name": "ipython",
    "version": 3
   },
   "file_extension": ".py",
   "mimetype": "text/x-python",
   "name": "python",
   "nbconvert_exporter": "python",
   "pygments_lexer": "ipython3",
   "version": "3.8.3"
  }
 },
 "nbformat": 4,
 "nbformat_minor": 4
}
